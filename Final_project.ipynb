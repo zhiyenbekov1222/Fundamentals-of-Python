{
 "cells": [
  {
   "cell_type": "markdown",
   "metadata": {},
   "source": [
    "Финальный Проект\n",
    "---"
   ]
  },
  {
   "cell_type": "markdown",
   "metadata": {},
   "source": [
    "Пожалуйста, создайте пакет **education**, который содержит следующие модули:\n",
    "\n",
    "1. users\n",
    "2. organizations\n",
    "\n",
    "Когда вы запускаете пакет напрямую, он должен показывать все модули, указанные в пакете."
   ]
  },
  {
   "cell_type": "markdown",
   "metadata": {},
   "source": [
    "## Описание модулей приведено ниже:"
   ]
  },
  {
   "cell_type": "markdown",
   "metadata": {},
   "source": [
    "### Модуль **users** должен содержать классы **Human, Student(Human), Teacher(Human)**.\n",
    "\n",
    "1. Класс **Human** должен содержать следующую информацию: имя, фамилию, возраст, пол, национальность, а также способы задания этой информации.\n",
    " \n",
    ">``` \n",
    "> h1 = Human(name=\"John\", familyname=\"Wick\", age=35, gender=\"male\", nationality=\"USA\")\n",
    "> ``` \n",
    "\n",
    "Список методов:\n",
    "> ```\n",
    "set_name()\n",
    "set_family()\n",
    "set_age()\n",
    "set_gender()\n",
    "set_nationality()\n",
    "get_info() # возвращает словарь с личной информацией об объекте\n",
    "> ```\n",
    "\n",
    "2. Класс **Student** - это детский класс класса Human. Он должен содержать следующую информацию о каждом студенте: имя, фамилия, возраст, пол, национальность, название школы или университета, список предметов и соответствующие методы для установки этой информации.\n",
    "\n",
    "\n",
    "Список методов в дополнение к списку методов из родительского класса Human:\n",
    "> ```\n",
    "set_school()\n",
    "add_subject() # добавить предмет в список предметов\n",
    "> ```\n",
    "\n",
    "\n",
    "3. Класс **Teacher** - это детский класс класса Human. Он должен содержать следующую информацию о каждом преподавателе: имя, фамилия, возраст, пол, национальность, название школы или университета, предмет преподавания и соответствующие методы для установки этой информации.\n",
    "\n",
    "Список методов в дополнение к списку методов из родительского класса Human:\n",
    "> ```\n",
    "set_school()\n",
    "add_subject() # добавить предмет преподаваемый учителем\n",
    "> ```\n",
    "\n",
    "* При непосредственном запуске модуля **users** напрямую должен отображаться список классов, а также списки методов соответствующих классов, приведенных в модуле.\n",
    "\n",
    "* Когда вы импортируете модуль, он должен показать, что модуль был успешно импортирован.\n",
    "\n",
    "---"
   ]
  },
  {
   "cell_type": "markdown",
   "metadata": {},
   "source": [
    "### Модуль **organizations** должен содержать класс **School**.\n",
    "\n",
    "Класс **School** должен содержать следующую информацию: название или номер школы, адрес школы, номер телефона школы, электронный адрес учебного заведения, количество учеников, количество учителей, а также способы задания этой информации.\n",
    " \n",
    " \n",
    ">``` \n",
    "> s1 = School(name=\"NIS\", address=\"Astana, Kazakhstan\", phone=\"999999\", num_stud=1000, num_teachers=50)\n",
    "> ``` \n",
    "\n",
    "Список методов:\n",
    "> ```\n",
    "set_name()\n",
    "set_address()\n",
    "set_phone()\n",
    "set_email()\n",
    "set_num_stud()\n",
    "set_num_teachers()\n",
    "add_student()\n",
    "add_teacher()\n",
    "get_info() # возвращает словарь с информацией про школу без личной информации студентов / преподавателей\n",
    "get_report() # создает отчет (файл \"csv\") с информацией о школе и о каждом ученике, а также о преподавателе в этой школе. \n",
    "> ```\n",
    "\n",
    "**Пожалуйста, сделайте правильный формат файла CSV (который вы считаете наиболее понятным)**\n",
    "\n",
    "* При непосредственном запуске модуля **organizations** напрямую должен отображаться список классов, а также списки методов соответствующих классов, приведенных в модуле.\n",
    "\n",
    "* Когда вы импортируете модуль, он должен показать, что модуль был успешно импортирован.\n",
    "\n",
    "---"
   ]
  },
  {
   "cell_type": "markdown",
   "metadata": {},
   "source": [
    "### Что делать в jupyter notebook?\n",
    "\n",
    "В этом jupyter notebook, пожалуйста, проверьте все функциональные возможности вашего пакета. Как минимум создайте 2-3 школы, в каждой школе должно быть не менее 10 учеников (с разной информацией), а также как минимум 2 учителя разных предметов и личной информации. **Личная информация этих учеников, учителей и школ не должна быть правдивой (просто выдумайте).**\n",
    "\n",
    "**Пожалуйста, заархивируйте пакет и данный jupyter notebook вместе и отправьте архивный файл.**"
   ]
  },
  {
   "cell_type": "code",
   "execution_count": 1,
   "metadata": {},
   "outputs": [
    {
     "name": "stdout",
     "output_type": "stream",
     "text": [
      "Module Users is successfully created\n",
      "Module with School is imported\n"
     ]
    }
   ],
   "source": [
    "# Ваш код:\n",
    "from education import *\n",
    "f1=organizations.School(name=\"1liceum\", address=\"Kunaeva Street\", phone=\"451525\",email=\"Kunaeva.High.edu.kz\",num_stud=10, num_teachers=5)"
   ]
  },
  {
   "cell_type": "code",
   "execution_count": 2,
   "metadata": {},
   "outputs": [
    {
     "name": "stdout",
     "output_type": "stream",
     "text": [
      "['Human', 'Student', 'Teacher', '__builtins__', '__cached__', '__doc__', '__file__', '__loader__', '__name__', '__package__', '__spec__']\n"
     ]
    }
   ],
   "source": [
    "print(dir(users))"
   ]
  },
  {
   "cell_type": "code",
   "execution_count": 3,
   "metadata": {},
   "outputs": [
    {
     "name": "stdout",
     "output_type": "stream",
     "text": [
      "['Human', 'School', 'Student', 'Teacher', '__builtins__', '__cached__', '__doc__', '__file__', '__loader__', '__name__', '__package__', '__spec__', 'csv', 'os']\n"
     ]
    }
   ],
   "source": [
    "print(dir(organizations))"
   ]
  },
  {
   "cell_type": "code",
   "execution_count": 4,
   "metadata": {},
   "outputs": [],
   "source": [
    "f1.add_student(name=\"Jeniffer\", familyname=\"Lopez\", age=13, gender=\"female\", nationality=\"american\")\n",
    "f1.add_student(name=\"Jeny\", familyname=\"Larry\", age=13, gender=\"female\", nationality=\"american\")\n",
    "f1.add_student(name=\"Jacob\", familyname=\"Larry\", age=13, gender=\"female\", nationality=\"american\")\n",
    "f1.add_student(name=\"Will\", familyname=\"Jason\", age=13, gender=\"male\", nationality=\"american\")\n",
    "f1.add_student(name=\"Marry\", familyname=\"Jason\", age=13, gender=\"male\", nationality=\"american\")\n",
    "f1.add_student(name=\"Will\", familyname=\"Jason\", age=13, gender=\"male\", nationality=\"american\")\n",
    "f1.add_student(name=\"Kaisar\", familyname=\"Kairat\", age=12, gender=\"male\", nationality=\"kazakh\")\n",
    "f1.add_student(name=\"Zhiger\", familyname=\"Zhasur\", age=12, gender=\"male\", nationality=\"kazakh\")\n",
    "f1.add_student(name=\"Zhasmin\", familyname=\"Alkisa\", age=13, gender=\"female\", nationality=\"kazakh\")\n",
    "f1.add_student(name=\"Zhibek\", familyname=\"Alkisa\", age=12, gender=\"female\", nationality=\"kazakh\")"
   ]
  },
  {
   "cell_type": "code",
   "execution_count": 5,
   "metadata": {},
   "outputs": [],
   "source": [
    "f1.add_teacher(name=\"Jeniffer\", familyname=\"Aniston\", age=23, gender=\"female\", nationality=\"american\")\n",
    "f1.add_teacher(name=\"Ariana\", familyname=\"Lopez\", age=23, gender=\"female\", nationality=\"american\")\n",
    "f1.add_teacher(name=\"Brad\", familyname=\"Stolen\", age=25, gender=\"male\", nationality=\"american\")\n",
    "f1.add_teacher(name=\"Asan\", familyname=\"Perdesh\", age=43, gender=\"female\", nationality=\"kazakh\")\n",
    "f1.add_teacher(name=\"Usen\", familyname=\"Aman\", age=33, gender=\"female\", nationality=\"kazakh\")"
   ]
  },
  {
   "cell_type": "code",
   "execution_count": 6,
   "metadata": {},
   "outputs": [
    {
     "name": "stdout",
     "output_type": "stream",
     "text": [
      "{'School name is 1liceum, address is Birken Street, email is GGG.COM, phone number is 451525. There are 10 students and 5 teachers'}\n"
     ]
    }
   ],
   "source": [
    "print(f1.get_info())"
   ]
  },
  {
   "cell_type": "code",
   "execution_count": 7,
   "metadata": {},
   "outputs": [],
   "source": [
    "f1.get_report()"
   ]
  },
  {
   "cell_type": "code",
   "execution_count": 8,
   "metadata": {},
   "outputs": [],
   "source": [
    "f2=organizations.School(name=\"2liceum\", address=\"Zamanbek Avenue\", phone=\"451525\",email=\"Bilim.High.edu.kz\",num_stud=10, num_teachers=5)"
   ]
  },
  {
   "cell_type": "code",
   "execution_count": 9,
   "metadata": {},
   "outputs": [],
   "source": [
    "f2.add_student(name=\"Jeniffer\", familyname=\"Lopez\", age=13, gender=\"female\", nationality=\"american\")\n",
    "f2.add_student(name=\"Jeny\", familyname=\"Larry\", age=13, gender=\"female\", nationality=\"american\")\n",
    "f2.add_student(name=\"Jacob\", familyname=\"Larry\", age=13, gender=\"female\", nationality=\"american\")\n",
    "f2.add_student(name=\"Will\", familyname=\"Jason\", age=13, gender=\"male\", nationality=\"american\")\n",
    "f2.add_student(name=\"Marry\", familyname=\"Jason\", age=13, gender=\"male\", nationality=\"american\")\n",
    "f2.add_student(name=\"Will\", familyname=\"Jason\", age=13, gender=\"male\", nationality=\"american\")\n",
    "f2.add_student(name=\"Kaisar\", familyname=\"Kairat\", age=12, gender=\"male\", nationality=\"kazakh\")\n",
    "f2.add_student(name=\"Zhiger\", familyname=\"Zhasur\", age=12, gender=\"male\", nationality=\"kazakh\")\n",
    "f2.add_student(name=\"Zhasmin\", familyname=\"Alkisa\", age=13, gender=\"female\", nationality=\"kazakh\")\n",
    "f2.add_student(name=\"Zhibek\", familyname=\"Alkisa\", age=12, gender=\"female\", nationality=\"kazakh\")"
   ]
  },
  {
   "cell_type": "code",
   "execution_count": 10,
   "metadata": {},
   "outputs": [],
   "source": [
    "f2.add_teacher(name=\"Jeniffer\", familyname=\"Aniston\", age=23, gender=\"female\", nationality=\"american\")\n",
    "f2.add_teacher(name=\"Ariana\", familyname=\"Lopez\", age=23, gender=\"female\", nationality=\"american\")\n",
    "f2.add_teacher(name=\"Brad\", familyname=\"Stolen\", age=25, gender=\"male\", nationality=\"american\")\n",
    "f2.add_teacher(name=\"Asan\", familyname=\"Perdesh\", age=43, gender=\"female\", nationality=\"kazakh\")\n",
    "f2.add_teacher(name=\"Usen\", familyname=\"Aman\", age=33, gender=\"female\", nationality=\"kazakh\")"
   ]
  },
  {
   "cell_type": "code",
   "execution_count": 11,
   "metadata": {},
   "outputs": [
    {
     "name": "stdout",
     "output_type": "stream",
     "text": [
      "{'School name is 2liceum, address is Kunaeva Avenue, email is Kunaeva.High.edu.kz, phone number is 451525. There are 10 students and 5 teachers'}\n"
     ]
    }
   ],
   "source": [
    "print(f2.get_info())"
   ]
  },
  {
   "cell_type": "code",
   "execution_count": 12,
   "metadata": {},
   "outputs": [],
   "source": [
    "f2.get_report()"
   ]
  },
  {
   "cell_type": "code",
   "execution_count": 13,
   "metadata": {},
   "outputs": [],
   "source": [
    "f3=organizations.School(name=\"3liceum\", address=\"Kenesary Avenue\", phone=\"451525\",email=\"Kenesary.High.edu.kz\",num_stud=10, num_teachers=5)"
   ]
  },
  {
   "cell_type": "code",
   "execution_count": 14,
   "metadata": {},
   "outputs": [],
   "source": [
    "f3.add_student(name=\"Jeniffer\", familyname=\"Lopez\", age=13, gender=\"female\", nationality=\"american\")\n",
    "f3.add_student(name=\"Jeny\", familyname=\"Larry\", age=13, gender=\"female\", nationality=\"american\")\n",
    "f3.add_student(name=\"Jacob\", familyname=\"Larry\", age=13, gender=\"female\", nationality=\"american\")\n",
    "f3.add_student(name=\"Will\", familyname=\"Jason\", age=13, gender=\"male\", nationality=\"american\")\n",
    "f3.add_student(name=\"Marry\", familyname=\"Jason\", age=13, gender=\"male\", nationality=\"american\")\n",
    "f3.add_student(name=\"Will\", familyname=\"Jason\", age=13, gender=\"male\", nationality=\"american\")\n",
    "f3.add_student(name=\"Kaisar\", familyname=\"Kairat\", age=12, gender=\"male\", nationality=\"kazakh\")\n",
    "f3.add_student(name=\"Zhiger\", familyname=\"Zhasur\", age=12, gender=\"male\", nationality=\"kazakh\")\n",
    "f3.add_student(name=\"Zhasmin\", familyname=\"Alkisa\", age=13, gender=\"female\", nationality=\"kazakh\")\n",
    "f3.add_student(name=\"Zhibek\", familyname=\"Alkisa\", age=12, gender=\"female\", nationality=\"kazakh\")"
   ]
  },
  {
   "cell_type": "code",
   "execution_count": 15,
   "metadata": {},
   "outputs": [],
   "source": [
    "f3.add_teacher(name=\"Jeniffer\", familyname=\"Aniston\", age=23, gender=\"female\", nationality=\"american\")\n",
    "f3.add_teacher(name=\"Ariana\", familyname=\"Lopez\", age=23, gender=\"female\", nationality=\"american\")\n",
    "f3.add_teacher(name=\"Brad\", familyname=\"Stolen\", age=25, gender=\"male\", nationality=\"american\")\n",
    "f3.add_teacher(name=\"Asan\", familyname=\"Perdesh\", age=43, gender=\"female\", nationality=\"kazakh\")\n",
    "f3.add_teacher(name=\"Usen\", familyname=\"Aman\", age=33, gender=\"female\", nationality=\"kazakh\")"
   ]
  },
  {
   "cell_type": "code",
   "execution_count": 18,
   "metadata": {},
   "outputs": [
    {
     "name": "stdout",
     "output_type": "stream",
     "text": [
      "{'School name is 3liceum, address is Kenesary Avenue, email is Kenesary.High.edu.kz, phone number is 451525. There are 10 students and 5 teachers'}\n"
     ]
    }
   ],
   "source": [
    "print(f3.get_info())"
   ]
  },
  {
   "cell_type": "code",
   "execution_count": 19,
   "metadata": {},
   "outputs": [],
   "source": [
    "f3.get_report()"
   ]
  },
  {
   "cell_type": "code",
   "execution_count": null,
   "metadata": {},
   "outputs": [],
   "source": []
  }
 ],
 "metadata": {
  "kernelspec": {
   "display_name": "Python 3",
   "language": "python",
   "name": "python3"
  },
  "language_info": {
   "codemirror_mode": {
    "name": "ipython",
    "version": 3
   },
   "file_extension": ".py",
   "mimetype": "text/x-python",
   "name": "python",
   "nbconvert_exporter": "python",
   "pygments_lexer": "ipython3",
   "version": "3.8.5"
  }
 },
 "nbformat": 4,
 "nbformat_minor": 2
}
