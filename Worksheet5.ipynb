{
 "cells": [
  {
   "cell_type": "markdown",
   "metadata": {},
   "source": [
    "# Проверьте и найдите все ошибки в строках кода ниже и исправьте их. \n",
    "\n",
    "\n",
    "Пожалуйста, будьте осторожны, есть не только синтаксические ошибки, но и ошибки реализации. Чтобы исправить ошибки, связанные с реализациями, внимательно проверьте **ожидаемые результаты.**\n",
    "\n",
    "Некоторые из блоков кода содержат более одной ошибки, имейте это в виду.\n",
    "Запустите каждый блок кода, просмотрите сообщения об ошибках (или разницу с ожидаемыми результатами) и исправьте их (одно за другим).\n",
    "\n",
    "\n",
    "**Обратите внимание: не перезаписывайте код, просто исправьте ошибки, и коды будут работать.**"
   ]
  },
  {
   "cell_type": "code",
   "execution_count": 3,
   "metadata": {},
   "outputs": [
    {
     "name": "stdout",
     "output_type": "stream",
     "text": [
      "10\n"
     ]
    }
   ],
   "source": [
    "variable_1 = 10\n",
    "\n",
    "print(variable_1)"
   ]
  },
  {
   "cell_type": "markdown",
   "metadata": {},
   "source": [
    "### Ожидаемый результат:\n",
    "```\n",
    "10\n",
    "```"
   ]
  },
  {
   "cell_type": "code",
   "execution_count": 5,
   "metadata": {},
   "outputs": [
    {
     "name": "stdout",
     "output_type": "stream",
     "text": [
      "20 > 10\n"
     ]
    }
   ],
   "source": [
    "variable_2 = 20\n",
    "if variable_2 > 10:\n",
    "    print(\"{} > 10\".format(variable_2))"
   ]
  },
  {
   "cell_type": "markdown",
   "metadata": {},
   "source": [
    "### Ожидаемый результат:\n",
    "```\n",
    "20 > 10\n",
    "```"
   ]
  },
  {
   "cell_type": "code",
   "execution_count": 8,
   "metadata": {},
   "outputs": [
    {
     "name": "stdout",
     "output_type": "stream",
     "text": [
      "0 1 2 3 4 5 6 7 8 9 "
     ]
    }
   ],
   "source": [
    "for i in range(10):\n",
    "    print(\"{}\".format(i),end =\" \")"
   ]
  },
  {
   "cell_type": "markdown",
   "metadata": {},
   "source": [
    "### Ожидаемый результат:\n",
    "```\n",
    "0 1 2 3 4 5 6 7 8 9 \n",
    "```"
   ]
  },
  {
   "cell_type": "code",
   "execution_count": 10,
   "metadata": {},
   "outputs": [
    {
     "name": "stdout",
     "output_type": "stream",
     "text": [
      "0 1 2 3 4 5 "
     ]
    }
   ],
   "source": [
    "list_1 = [1,2,3,4,5]\n",
    "list_1.insert(0,0)\n",
    "for num in list_1:\n",
    "    print(num, end=\" \")"
   ]
  },
  {
   "cell_type": "markdown",
   "metadata": {},
   "source": [
    "### Ожидаемый результат:\n",
    "```\n",
    "0 1 2 3 4 5\n",
    "```"
   ]
  },
  {
   "cell_type": "code",
   "execution_count": 11,
   "metadata": {},
   "outputs": [
    {
     "name": "stdout",
     "output_type": "stream",
     "text": [
      "[0, 1, 2, 3, 4]\n"
     ]
    }
   ],
   "source": [
    "list_2 = []\n",
    "\n",
    "for i in range(5):\n",
    "    list_2.append(i)\n",
    "\n",
    "print(list_2)"
   ]
  },
  {
   "cell_type": "markdown",
   "metadata": {},
   "source": [
    "### Ожидаемый результат:\n",
    "```\n",
    "[0, 1, 2, 3, 4]\n",
    "```"
   ]
  },
  {
   "cell_type": "code",
   "execution_count": 15,
   "metadata": {},
   "outputs": [
    {
     "name": "stdout",
     "output_type": "stream",
     "text": [
      "(20, 12)\n"
     ]
    }
   ],
   "source": [
    "def operations(a,b):\n",
    "    return a*b, a + b\n",
    "res=operations(10,2)\n",
    "\n",
    "print(res)"
   ]
  },
  {
   "cell_type": "markdown",
   "metadata": {},
   "source": [
    "### Ожидаемый результат:\n",
    "```\n",
    "(20, 12)\n",
    "```"
   ]
  },
  {
   "cell_type": "code",
   "execution_count": 29,
   "metadata": {},
   "outputs": [
    {
     "name": "stdout",
     "output_type": "stream",
     "text": [
      "0 is even\t2 is even\t4 is even\t6 is even\t8 is even\t"
     ]
    }
   ],
   "source": [
    "for i in range(10):\n",
    "    if i % 2 == 0:\n",
    "        print(\"{} is even\".format(i),end=\"\\t\")"
   ]
  },
  {
   "cell_type": "markdown",
   "metadata": {},
   "source": [
    "### Ожидаемый результат:\n",
    "```\n",
    "0 is even\t2 is even\t4 is even\t6 is even\t8 is even\n",
    "```"
   ]
  },
  {
   "cell_type": "code",
   "execution_count": 31,
   "metadata": {},
   "outputs": [
    {
     "name": "stdout",
     "output_type": "stream",
     "text": [
      "Even numbers: [0, 2, 4, 6, 8, 10, 12, 14, 16, 18]\n",
      "Odd numbers: [1, 3, 5, 7, 9, 11, 13, 15, 17, 19]\n"
     ]
    }
   ],
   "source": [
    "even = []\n",
    "odd = []\n",
    "for i in range(20):\n",
    "    if i%2==0:\n",
    "        even.append(i)\n",
    "    else:\n",
    "        odd.append(i)\n",
    "\n",
    "print(\"Even numbers: {}\".format(even))\n",
    "print(\"Odd numbers: {}\".format(odd))"
   ]
  },
  {
   "cell_type": "markdown",
   "metadata": {},
   "source": [
    "### Ожидаемый результат:\n",
    "```\n",
    "Even numbers: [0, 2, 4, 6, 8, 10, 12, 14, 16, 18]\n",
    "Odd numbers: [1, 3, 5, 7, 9, 11, 13, 15, 17, 19]\n",
    "```"
   ]
  },
  {
   "cell_type": "code",
   "execution_count": 33,
   "metadata": {},
   "outputs": [
    {
     "name": "stdout",
     "output_type": "stream",
     "text": [
      "25\n"
     ]
    }
   ],
   "source": [
    "people_age = {\"Adam\":25, \"John\":30, \"Jenny\":50}\n",
    "\n",
    "print(people_age[\"Adam\"])"
   ]
  },
  {
   "cell_type": "markdown",
   "metadata": {},
   "source": [
    "### Ожидаемый результат:\n",
    "```\n",
    "25\n",
    "```"
   ]
  },
  {
   "cell_type": "code",
   "execution_count": 55,
   "metadata": {},
   "outputs": [
    {
     "name": "stdout",
     "output_type": "stream",
     "text": [
      "{(0, 1): 'Done', (1, 2): 'Done', (2, 3): 'Done', (3, 4): 'Done', (4, 5): 'Done', (5, 6): 'Done', (6, 7): 'Done', (7, 8): 'Done', (8, 9): 'Done', (9, 10): 'Done'}\n"
     ]
    }
   ],
   "source": [
    "pairs = {}\n",
    "\n",
    "for i in range(10):\n",
    "    tup1 = i\n",
    "    tup2=i+1\n",
    "    pairs[tup1,tup2] = \"Done\"\n",
    "print(pairs)"
   ]
  },
  {
   "cell_type": "markdown",
   "metadata": {},
   "source": [
    "### Ожидаемый результат:\n",
    "```\n",
    "{(0, 1): 'Done', (1, 2): 'Done', (2, 3): 'Done', (3, 4): 'Done', (4, 5): 'Done', (5, 6): 'Done', (6, 7): 'Done', (7, 8): 'Done', (8, 9): 'Done', (9, 10): 'Done'}\n",
    "```"
   ]
  },
  {
   "cell_type": "code",
   "execution_count": 67,
   "metadata": {},
   "outputs": [
    {
     "name": "stdout",
     "output_type": "stream",
     "text": [
      "{(1, 2, 3)}\n"
     ]
    }
   ],
   "source": [
    "set1 = set()\n",
    "list1=1,2,3\n",
    "set1.add(list1)\n",
    "print(set1)"
   ]
  },
  {
   "cell_type": "markdown",
   "metadata": {},
   "source": [
    "### Ожидаемый результат:\n",
    "```\n",
    "{(1, 2, 3)}\n",
    "```"
   ]
  },
  {
   "cell_type": "code",
   "execution_count": 65,
   "metadata": {},
   "outputs": [
    {
     "name": "stdout",
     "output_type": "stream",
     "text": [
      "[0, 1, 2, 3, 4, 5, 6, 7, 8, 9]\n"
     ]
    }
   ],
   "source": [
    "num=0\n",
    "list_2 =[]\n",
    "while num < 10:\n",
    "    list_2.append(num)\n",
    "    num=num+1\n",
    "print(list_2)"
   ]
  },
  {
   "cell_type": "markdown",
   "metadata": {},
   "source": [
    "### Ожидаемый результат:\n",
    "```\n",
    "[0, 1, 2, 3, 4, 5, 6, 7, 8, 9]\n",
    "```"
   ]
  },
  {
   "cell_type": "code",
   "execution_count": 30,
   "metadata": {},
   "outputs": [
    {
     "name": "stdout",
     "output_type": "stream",
     "text": [
      "I am a human object\n"
     ]
    }
   ],
   "source": [
    "class Human:\n",
    "    def __init_(self):\n",
    "        self=self\n",
    "    def get_info(self):\n",
    "        print(\"I am a human object\")\n",
    "h1 = Human()\n",
    "h1.get_info()"
   ]
  },
  {
   "cell_type": "markdown",
   "metadata": {},
   "source": [
    "### Ожидаемый результат:\n",
    "```\n",
    "I am a human object\n",
    "```"
   ]
  },
  {
   "cell_type": "code",
   "execution_count": 57,
   "metadata": {},
   "outputs": [
    {
     "name": "stdout",
     "output_type": "stream",
     "text": [
      "I am an person, my name is Bobby and i am 23 years old\n"
     ]
    }
   ],
   "source": [
    "class Person:\n",
    "    def __init__(self,name=None,age=None):\n",
    "        self.name = name\n",
    "        self.age = age\n",
    "        \n",
    "    def __str__(self):\n",
    "        return \"I am an person, my name is {} and i am {} years old\".format(self.name, self.age)\n",
    "    \n",
    "a1 = Person(name = \"Bobby\", age = 23)\n",
    "print(a1)"
   ]
  },
  {
   "cell_type": "markdown",
   "metadata": {},
   "source": [
    "### Ожидаемый результат:\n",
    "```\n",
    "I am an person, my name is Bobby and i am 23 years old\n",
    "```"
   ]
  },
  {
   "cell_type": "code",
   "execution_count": 52,
   "metadata": {},
   "outputs": [
    {
     "name": "stdout",
     "output_type": "stream",
     "text": [
      "Audi was produced in 1993\n",
      "Start the vehicle Audi\n",
      "Stop the vehicle Audi\n"
     ]
    }
   ],
   "source": [
    "class Vehicle:\n",
    "    def __init__(self,model=None, year=None):\n",
    "        self.model = model\n",
    "        self.year = year\n",
    "    \n",
    "    def __str__(self):\n",
    "        return \"{} was produced in {}\".format(self.model,self.year)\n",
    "    \n",
    "    def start(self):\n",
    "        print(\"Start the vehicle {}\".format(self.model))\n",
    "    \n",
    "    def stop(self):\n",
    "        print(\"Stop the vehicle {}\".format(self.model))\n",
    "\n",
    "v1 = Vehicle(model = \"Audi\", year = 1993)\n",
    "print(v1)\n",
    "v1.start()\n",
    "v1.stop()"
   ]
  },
  {
   "cell_type": "markdown",
   "metadata": {},
   "source": [
    "### Ожидаемый результат:\n",
    "```\n",
    "Audi was produced in 1993\n",
    "Start the vehicle Audi\n",
    "Stop the vehicle Audi\n",
    "```"
   ]
  },
  {
   "cell_type": "markdown",
   "metadata": {},
   "source": [
    "# Прекрасная Работа!!!"
   ]
  }
 ],
 "metadata": {
  "kernelspec": {
   "display_name": "Python 3",
   "language": "python",
   "name": "python3"
  },
  "language_info": {
   "codemirror_mode": {
    "name": "ipython",
    "version": 3
   },
   "file_extension": ".py",
   "mimetype": "text/x-python",
   "name": "python",
   "nbconvert_exporter": "python",
   "pygments_lexer": "ipython3",
   "version": "3.8.5"
  }
 },
 "nbformat": 4,
 "nbformat_minor": 2
}
