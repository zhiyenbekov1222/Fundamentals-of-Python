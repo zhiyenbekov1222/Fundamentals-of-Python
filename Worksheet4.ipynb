{
 "cells": [
  {
   "cell_type": "markdown",
   "metadata": {},
   "source": [
    "1) Напишите функцию, которая возвращает сумму двух чисел.\n",
    "\n",
    "Например: для param1 = 1 и param2 = 2 результат должен быть\n",
    "add(param1, param2) = 3."
   ]
  },
  {
   "cell_type": "code",
   "execution_count": 5,
   "metadata": {},
   "outputs": [
    {
     "data": {
      "text/plain": [
       "12"
      ]
     },
     "execution_count": 5,
     "metadata": {},
     "output_type": "execute_result"
    }
   ],
   "source": [
    "def add(param1,param2):\n",
    "    return param1+param2\n",
    "add(5,7)"
   ]
  },
  {
   "cell_type": "markdown",
   "metadata": {},
   "source": [
    "2) Дано год, верните тот век, в котором он находится. Первый век охватывает период с 1 года до 100 года включительно, второй - с 101 года до 200 года включительно и т. д.\n",
    "\n",
    "Например: Для year = 1905 результат должен быть centuryFromYear(year) = 20;\n",
    "Для year = 1700, результат должен быть centuryFromYear(year) = 17."
   ]
  },
  {
   "cell_type": "code",
   "execution_count": 53,
   "metadata": {},
   "outputs": [
    {
     "data": {
      "text/plain": [
       "17"
      ]
     },
     "execution_count": 53,
     "metadata": {},
     "output_type": "execute_result"
    }
   ],
   "source": [
    "def centuryFromYear(year):\n",
    "    n=int(year/100)\n",
    "    if 0<=year<=100:\n",
    "        return 1\n",
    "    elif year%100==0:\n",
    "        return n\n",
    "    elif year>=n:\n",
    "        return n+1\n",
    "    return centuryFromYear()\n",
    "centuryFromYear(1700)"
   ]
  },
  {
   "cell_type": "markdown",
   "metadata": {},
   "source": [
    "3) Напишите функцию,которая проверяет строку является ли та палиндромом (палиндром - это строка, которая читается одинаково слева направо и справа налево).\n",
    "\n",
    "Например: Для inputString = \"aabaa\" вывод должен быть checkPalindrome(inputString) = true;\n",
    "\n",
    "Для inputString = \"abac\" вывод должен быть checkPalindrome(inputString) = false; \n",
    "\n",
    "Для inputString = \"a\" вывод должен быть checkPalindrome(inputString) = true."
   ]
  },
  {
   "cell_type": "code",
   "execution_count": 151,
   "metadata": {},
   "outputs": [
    {
     "data": {
      "text/plain": [
       "True"
      ]
     },
     "execution_count": 151,
     "metadata": {},
     "output_type": "execute_result"
    }
   ],
   "source": [
    "def checkPalindrome(inputString):\n",
    "    return inputString[::-1]==str(inputString)\n",
    "checkPalindrome(\"қазақ\")"
   ]
  },
  {
   "cell_type": "markdown",
   "metadata": {},
   "source": [
    "4) Вам дается двузначное целое число n. Вернуть сумму своих цифр.\n",
    "\n",
    "Например: для n = 29 вывод должен быть addTwoDigits(n) = 11."
   ]
  },
  {
   "cell_type": "code",
   "execution_count": 116,
   "metadata": {},
   "outputs": [
    {
     "data": {
      "text/plain": [
       "16"
      ]
     },
     "execution_count": 116,
     "metadata": {},
     "output_type": "execute_result"
    }
   ],
   "source": [
    "def addTwoDigits(n):\n",
    "    res=0\n",
    "    digit=[int(n) for n in str(n)]\n",
    "    for d in digit:\n",
    "        res +=d\n",
    "    return res\n",
    "addTwoDigits(295)    "
   ]
  },
  {
   "cell_type": "markdown",
   "metadata": {},
   "source": [
    "5) Получив целое число n, верните наибольшее число, которое содержит ровно n цифр.\n",
    "\n",
    "Например: Для n = 2 результат должен быть largestNumber(n) = 99."
   ]
  },
  {
   "cell_type": "code",
   "execution_count": 3,
   "metadata": {},
   "outputs": [
    {
     "name": "stdout",
     "output_type": "stream",
     "text": [
      "The largest number for the length 'n' is\n"
     ]
    },
    {
     "data": {
      "text/plain": [
       "'99'"
      ]
     },
     "execution_count": 3,
     "metadata": {},
     "output_type": "execute_result"
    }
   ],
   "source": [
    "def largestNumber(n):\n",
    "    res=n*str(9)\n",
    "    return res\n",
    "print(\"The largest number for the length 'n' is\")\n",
    "largestNumber(2)"
   ]
  },
  {
   "cell_type": "markdown",
   "metadata": {},
   "source": [
    "6) Вам дано три целых числа, a, b и c. Гарантируется, что два из этих целых равны друг другу. Каково значение третьего целого числа?\n",
    "\n",
    "Например: Для a = 2, b = 7 и c = 2 вывод должен быть extraNumber (a, b, c) = 7. Два равных числа - это a и c. Третье число b равно 7, что является ответом."
   ]
  },
  {
   "cell_type": "code",
   "execution_count": 142,
   "metadata": {},
   "outputs": [
    {
     "data": {
      "text/plain": [
       "1"
      ]
     },
     "execution_count": 142,
     "metadata": {},
     "output_type": "execute_result"
    }
   ],
   "source": [
    "def extraNumber(a, b, c):\n",
    "    if a==b:\n",
    "        return c\n",
    "    elif a==c:\n",
    "        return b\n",
    "    elif c==b:\n",
    "        return a\n",
    "    return \"Numbers are different\"\n",
    "    \n",
    "extraNumber(2,2,1)"
   ]
  },
  {
   "cell_type": "markdown",
   "metadata": {},
   "source": [
    "7) Напишите функцию Python, которая принимает последовательность чисел и определяет, все ли числа отличаются друг от друга.\n",
    "\n",
    "Например: Для [1,5,7,9] вывод должен быть print(test_distinct([1,5,7,9])) = True, для [2,4,5,5,7,9] вывод должен быть print(test_distinct([2,4,5,5,7,9])) = False. "
   ]
  },
  {
   "cell_type": "code",
   "execution_count": 113,
   "metadata": {},
   "outputs": [
    {
     "data": {
      "text/plain": [
       "True"
      ]
     },
     "execution_count": 113,
     "metadata": {},
     "output_type": "execute_result"
    }
   ],
   "source": [
    "def test_distinct(data):\n",
    "        return len(data)==len(set(data))\n",
    "test_distinct([1,2,5])"
   ]
  },
  {
   "cell_type": "markdown",
   "metadata": {},
   "source": [
    "8) Напишите функцию Python для суммирования всех чисел в списке.\n",
    "\n",
    "Например: Для [8,2,3,0,7] вывод должен быть sum([8,2,3,0,7]) = 20."
   ]
  },
  {
   "cell_type": "code",
   "execution_count": 159,
   "metadata": {},
   "outputs": [
    {
     "data": {
      "text/plain": [
       "20"
      ]
     },
     "execution_count": 159,
     "metadata": {},
     "output_type": "execute_result"
    }
   ],
   "source": [
    "def sum(numbers):\n",
    "    res=0\n",
    "    for list in numbers:\n",
    "        res=res+list\n",
    "    return res\n",
    "sum([8,2,3,0,7])"
   ]
  },
  {
   "cell_type": "markdown",
   "metadata": {},
   "source": [
    "9) Напишите функцию Python, которая принимает число в качестве параметра и проверяет, является ли число простым или нет.\n",
    "\n",
    "Примечание. Простое число - это натуральное число, больше 1, которое не имеет положительных делителей, кроме 1 и самого себя.\n",
    "\n",
    "Например: Для числа 9 вывод должен быть test_prime(9) = False, a для числа 9 вывод должен быть test_prime(19) = True. "
   ]
  },
  {
   "cell_type": "code",
   "execution_count": 167,
   "metadata": {},
   "outputs": [
    {
     "data": {
      "text/plain": [
       "True"
      ]
     },
     "execution_count": 167,
     "metadata": {},
     "output_type": "execute_result"
    }
   ],
   "source": [
    "def test_distinct(data):\n",
    "    sqr=data**0.5\n",
    "    for n in range(2,int(sqr)+1):\n",
    "        if data==1 or data==2 or data==3 or data==5 or data==7:\n",
    "            return True\n",
    "        elif data%n==0:\n",
    "            return False\n",
    "    return True\n",
    "test_distinct(167)"
   ]
  },
  {
   "cell_type": "markdown",
   "metadata": {},
   "source": [
    "10) Некоторые люди стоят в ряд в парке. Между ними есть деревья, которые не могут быть перемещены. Ваша задача состоит в том, чтобы переставить людей по их высоте в не убывающем порядке, не перемещая деревья. Люди могут быть очень высокими!\n",
    "\n",
    "Например: Для a = [-1, 150, 190, 170, -1, -1, 160, 180] вывод должен быть sortByHeight(a) = [-1, 150, 160, 170, -1, -1, 180, 190].\n",
    "\n"
   ]
  },
  {
   "cell_type": "code",
   "execution_count": 93,
   "metadata": {},
   "outputs": [
    {
     "name": "stdout",
     "output_type": "stream",
     "text": [
      "[-1, 150, 160, 170, -1, -1, 180, 190]\n"
     ]
    }
   ],
   "source": [
    "a=[-1, 150, 190, 170, -1, -1, 160, 180]\n",
    "def sortByHeight(a):\n",
    "    pos=[]\n",
    "    for numbers in a:\n",
    "        if numbers>=0:\n",
    "            pos.append(numbers)\n",
    "    pos.sort()\n",
    "    index=0\n",
    "    for i in range(len(a)):\n",
    "        if not a[i]==-1:\n",
    "            a[i]=pos[index]\n",
    "            index +=1\n",
    "    return a\n",
    "print(sortByHeight(a))"
   ]
  },
  {
   "cell_type": "markdown",
   "metadata": {},
   "source": [
    "# Прекрасная Работа!!!"
   ]
  },
  {
   "cell_type": "code",
   "execution_count": null,
   "metadata": {},
   "outputs": [],
   "source": []
  }
 ],
 "metadata": {
  "kernelspec": {
   "display_name": "Python 3",
   "language": "python",
   "name": "python3"
  },
  "language_info": {
   "codemirror_mode": {
    "name": "ipython",
    "version": 3
   },
   "file_extension": ".py",
   "mimetype": "text/x-python",
   "name": "python",
   "nbconvert_exporter": "python",
   "pygments_lexer": "ipython3",
   "version": "3.8.5"
  }
 },
 "nbformat": 4,
 "nbformat_minor": 2
}
