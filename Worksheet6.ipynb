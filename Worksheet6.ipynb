{
 "cells": [
  {
   "cell_type": "markdown",
   "metadata": {},
   "source": [
    "# Проверьте и найдите все ошибки в строках кода ниже и исправьте их. \n",
    "\n",
    "\n",
    "Пожалуйста, будьте осторожны, есть не только синтаксические ошибки, но и ошибки реализации. Чтобы исправить ошибки, связанные с реализациями, внимательно проверьте **ожидаемые результаты.**\n",
    "\n",
    "Некоторые из блоков кода содержат более одной ошибки, имейте это в виду.\n",
    "Запустите каждый блок кода, просмотрите сообщения об ошибках (или разницу с ожидаемыми результатами) и исправьте их (одно за другим).\n",
    "\n",
    "\n",
    "**Обратите внимание: не перезаписывайте код, просто исправьте ошибки, и коды будут работать.**"
   ]
  },
  {
   "cell_type": "code",
   "execution_count": 45,
   "metadata": {},
   "outputs": [
    {
     "name": "stdout",
     "output_type": "stream",
     "text": [
      "Hello my name is Brad\n"
     ]
    }
   ],
   "source": [
    "arr1 = [\"Hello\",\"my\",\"name\",\"is\"]\n",
    "name = \"Brad\"\n",
    "print(\" \".join(arr1)+\" \"+name)"
   ]
  },
  {
   "cell_type": "markdown",
   "metadata": {},
   "source": [
    "### Ожидаемый результат:\n",
    "```\n",
    "Hello my name is Brad\n",
    "```"
   ]
  },
  {
   "cell_type": "code",
   "execution_count": 46,
   "metadata": {},
   "outputs": [
    {
     "data": {
      "text/plain": [
       "(100, -10)"
      ]
     },
     "execution_count": 46,
     "metadata": {},
     "output_type": "execute_result"
    }
   ],
   "source": [
    "def findMaxMin(arr):\n",
    "    maxNum = max(arr2) \n",
    "    minNum = min(arr2)\n",
    "    if len(arr)<0:\n",
    "        return \"List is empty\"\n",
    "    else:\n",
    "        return maxNum,minNum\n",
    "arr2 = [100,-10,20,1,0]\n",
    "findMaxMin(arr2)"
   ]
  },
  {
   "cell_type": "markdown",
   "metadata": {},
   "source": [
    "### Ожидаемый результат:\n",
    "```\n",
    "(100, -10)\n",
    "```"
   ]
  },
  {
   "cell_type": "code",
   "execution_count": 47,
   "metadata": {},
   "outputs": [
    {
     "name": "stdout",
     "output_type": "stream",
     "text": [
      "Brad Pitt USA\n"
     ]
    }
   ],
   "source": [
    "def concatStrings(**kwargs):\n",
    "    name = kwargs[\"name\"]\n",
    "    familyName = kwargs[\"family\"]\n",
    "    country = kwargs[\"country\"]\n",
    "    result = \" \".join([name,familyName,country])\n",
    "    print(name,familyName,country)\n",
    "concatStrings(name=\"Brad\", family=\"Pitt\", country=\"USA\")"
   ]
  },
  {
   "cell_type": "markdown",
   "metadata": {},
   "source": [
    "### Ожидаемый результат:\n",
    "```\n",
    "Brad Pitt USA\n",
    "```"
   ]
  },
  {
   "cell_type": "code",
   "execution_count": 48,
   "metadata": {},
   "outputs": [
    {
     "name": "stdout",
     "output_type": "stream",
     "text": [
      "[2, 3, 4]\n"
     ]
    }
   ],
   "source": [
    "arr3=list(range(20))\n",
    "\n",
    "def sliceList(arr, *args):\n",
    "    str_elem, end_elem, step_elem = args\n",
    "    return arr[str_elem:end_elem+1:step_elem]\n",
    "\n",
    "print(sliceList(arr3,2,4,1)) # Эта строка кода не содержит ошибок"
   ]
  },
  {
   "cell_type": "markdown",
   "metadata": {},
   "source": [
    "### Ожидаемый результат:\n",
    "```\n",
    "[2, 3, 4]\n",
    "```"
   ]
  },
  {
   "cell_type": "code",
   "execution_count": 49,
   "metadata": {},
   "outputs": [
    {
     "name": "stdout",
     "output_type": "stream",
     "text": [
      "List is None\n",
      "49.49999999999999\n"
     ]
    }
   ],
   "source": [
    "arr4 =list(range(0,100,3))\n",
    "def calcMean(arr=None):\n",
    "    if not arr:\n",
    "        return \"List is None\"\n",
    "    else:\n",
    "        ave = 0\n",
    "        for num in arr4:\n",
    "            ave +=num/len(arr4)   #ave +=ave/len(num)\n",
    "        return ave\n",
    "\n",
    "print(calcMean())\n",
    "print(calcMean(arr4))"
   ]
  },
  {
   "cell_type": "markdown",
   "metadata": {},
   "source": [
    "### Ожидаемый результат:\n",
    "```\n",
    "List is None\n",
    "49.49999999999999\n",
    "```"
   ]
  },
  {
   "cell_type": "code",
   "execution_count": 50,
   "metadata": {},
   "outputs": [
    {
     "name": "stdout",
     "output_type": "stream",
     "text": [
      "0123\n",
      "4567\n",
      "89\n"
     ]
    }
   ],
   "source": [
    "def concatNumbers(arr):\n",
    "    ans = \"\"\n",
    "    for i in arr5:\n",
    "        ans += str(arr5[i])\n",
    "        if (i+1) % 4 == 0:\n",
    "            ans += \"\\n\"\n",
    "    return ans\n",
    "\n",
    "arr5 = list(range(10))\n",
    "print(concatNumbers(arr5))"
   ]
  },
  {
   "cell_type": "markdown",
   "metadata": {},
   "source": [
    "### Ожидаемый результат:\n",
    "```\n",
    "0123\n",
    "4567\n",
    "89\n",
    "```"
   ]
  },
  {
   "cell_type": "code",
   "execution_count": 51,
   "metadata": {},
   "outputs": [
    {
     "name": "stdout",
     "output_type": "stream",
     "text": [
      "[' Making_files.ipynb', '.ipynb', '.ipynb_checkpoints', '1Homework.py', '6b6286bff4799e339e1a81098565722f.ipynb', 'annual-enterprise-survey-2018-financial-year-provisional-csv.csv', 'basic.py', 'Calculator.py', 'CSV-FILES.ipynb', 'csv.ipynb', 'downloads', 'figures.csv', 'files', 'files.txt', 'files.txtfile_with_metaphor.txt', 'filesfile_with_metaphor.txt', 'file_with_metaphor.txt', 'FizzBizz.ipynb', 'FizzBuzz.ipynb', 'Functions.Basis.ipynb', 'Homework2 Variables.ipynb', 'Lists.ipynb', 'logic elements.ipynb', 'new_files.txt', 'Object oriented programming.ipynb', 'OOP part4.ipynb', 'Polynomial task.ipynb', 'quiz.edited.ipynb', 'Recursion.ipynb', 'Untitled.ipynb', 'Untitled1.ipynb', 'Untitled2.ipynb', 'Untitled3.ipynb', 'worksheet1.Edited..ipynb', 'Worksheet2.ipynb', 'Worksheet3.ipynb', 'Worksheet4.ipynb', 'Worksheet5.ipynb', 'Worksheet6.ipynb', '__pycache__', 'Ассоциация.ipynb', 'Кортежи..ipynb', 'Кортежи2.ipynb', 'Модификаторы.ipynb', 'Наследование.ipynb', 'ООП Конструктор.ipynb', 'Основы', 'переменные и типы.ipynb', 'Полиморфизм.ipynb', 'условный оператор.ipynb', 'Циклы.ipynb']\n"
     ]
    }
   ],
   "source": [
    "import os\n",
    "\n",
    "listFiles = os.listdir()\n",
    "\n",
    "print(listFiles)"
   ]
  },
  {
   "cell_type": "markdown",
   "metadata": {},
   "source": [
    "### Ожидаемый результат:\n",
    "\n",
    "**Список всех файлов в текущей рабочей папке.**\n",
    "\n",
    "Пример:\n",
    "\n",
    "```\n",
    "['.DS_Store', '.ipynb_checkpoints', '.Worksheet6.ipynb.swp', 'annual-enterprise-survey-2018-financial-year-provisional-csv.csv', 'Basics-hw1-prob.ipynb', 'Basics-hw1-sol.ipynb', 'Basics-hw2-prob.ipynb', 'Basics-hw2-sol.ipynb', 'Basics-hw3-prob.ipynb', 'Basics-hw4-prob.ipynb', 'Basics-hw5-prob.ipynb', 'Basics-hw5-sol.ipynb', 'Basics-hw6-prob.ipynb', 'Basics-hw6-sol.ipynb', 'Basics-hw7-prob.ipynb', 'Basics-hw7-sol.ipynb', 'Basics-hw8-prob.ipynb', 'Basics-hw8-sol.ipynb', 'figures.csv', 'Files-hw1-prob.ipynb', 'Files-hw2-prob.ipynb', 'Files-hw2-sol.ipynb', 'FizzBuzz_prob.ipynb', 'FizzBuzz_sol.ipynb', 'Functions-hw1-prob.ipynb', 'Functions-hw1-sol.ipynb', 'Functions-hw2-prob.ipynb', 'Functions-hw2-sol.ipynb', 'Functions-hw3-prob.ipynb', 'Functions-hw3-sol.ipynb', 'Modules-hw1', 'Modules-hw2', 'OOP-hw1-prob.ipynb', 'OOP-hw1-sol.ipynb', 'OOP-hw2-prob.ipynb', 'OOP-hw2-sol.ipynb', 'OOP-hw3-prob.ipynb', 'OOP-hw3-sol.ipynb', 'OOP-hw4-prob.ipynb', 'OOP-hw4-sol.ipynb', 'OOP-hw5-prob.ipynb', 'OOP-hw5-sol.ipynb', 'OOP-hw6-prob.ipynb', 'OOP-hw6-sol.ipynb', 'OOP-hw7-prob.ipynb', 'OOP-hw7-sol.ipynb', 'README.md', 'Worksheet0.ipynb', 'Worksheet1.ipynb', 'Worksheet2.ipynb', 'Worksheet3.ipynb', 'Worksheet4.ipynb', 'Worksheet5.ipynb', 'Worksheet6.ipynb']\n",
    "```"
   ]
  },
  {
   "cell_type": "code",
   "execution_count": 52,
   "metadata": {},
   "outputs": [
    {
     "name": "stdout",
     "output_type": "stream",
     "text": [
      "Metaphor: \"Kill two birds in one stone\"\n",
      "['file_with_metaphor.txt']\n"
     ]
    }
   ],
   "source": [
    "import os\n",
    "direc = \"./files.txt\"\n",
    "directoryExists = os.path.exists(direc)\n",
    "\n",
    "text = 'Metaphor: \"Kill two birds in one stone\"'\n",
    "\n",
    "if not directoryExists:\n",
    "    os.mkdir(direc)\n",
    "    \n",
    "with open(direc+\"./file_with_metaphor.txt\",\"w\") as output:\n",
    "    output.write(text)\n",
    "    output.close()\n",
    "with open(direc+\"./file_with_metaphor.txt\", \"r\") as file:\n",
    "    text = file.read()\n",
    "    print(text)\n",
    "\n",
    "print(os.listdir(direc))"
   ]
  },
  {
   "cell_type": "markdown",
   "metadata": {},
   "source": [
    "### Ожидаемый результат:\n",
    "```\n",
    "Metaphor: \"Kill two birds in one stone\"\n",
    "['file_with_metaphor.txt']\n",
    "```"
   ]
  },
  {
   "cell_type": "code",
   "execution_count": 53,
   "metadata": {},
   "outputs": [
    {
     "name": "stdout",
     "output_type": "stream",
     "text": [
      "My name is Laika, I have 4 legs and can say Gaf Gaf. \n",
      "I am 3 years old\n"
     ]
    }
   ],
   "source": [
    "class Animal:\n",
    "    def __init__(self,**kwargs):\n",
    "        self.name = kwargs[\"name\"]\n",
    "        self.num_legs = kwargs[\"num_legs\"]\n",
    "        self.voice = kwargs[\"voice\"]\n",
    "    \n",
    "    def get_voice():\n",
    "        return self.voice\n",
    "    \n",
    "    def get_name():\n",
    "        return self.name\n",
    "    \n",
    "    def get_legs():\n",
    "        return self.num_legs\n",
    "\n",
    "class Dog(Animal):\n",
    "    def __init__(self,name=None, voice=None, num_legs=None,age=None):\n",
    "        super().__init__(name=name, voice=voice, num_legs=num_legs)\n",
    "        self.age=age\n",
    "    def __str__(self):\n",
    "        return f\"My name is {self.name}, I have {self.num_legs} legs and can say {self.voice}. \\nI am {self.age} years old\"\n",
    "\n",
    "dog1=Dog(name=\"Laika\",voice=\"Gaf Gaf\", num_legs=4,age=3)\n",
    "print(dog1)"
   ]
  },
  {
   "cell_type": "markdown",
   "metadata": {},
   "source": [
    "### Ожидаемый результат:\n",
    "```\n",
    "My name is Laika, I have 4 legs and can say Gaf Gaf. \n",
    "I am 3 years old\n",
    "```"
   ]
  },
  {
   "cell_type": "code",
   "execution_count": 54,
   "metadata": {},
   "outputs": [
    {
     "name": "stdout",
     "output_type": "stream",
     "text": [
      "John Wick is adult male\n"
     ]
    }
   ],
   "source": [
    "def generalInfo(gender=None, ageGroup=None):\n",
    "    \n",
    "    def personInfo(name=None, familyName=None):\n",
    "        information=f\"{name} {familyName}\"\n",
    "        \n",
    "        return information+ \" \"+\"is\"+\" \"+ ageGroup+\" \"+ gender\n",
    "    return personInfo\n",
    "\n",
    "per1=generalInfo(gender=\"male\",ageGroup=\"adult\")\n",
    "print(per1(\"John\",\"Wick\"))"
   ]
  },
  {
   "cell_type": "markdown",
   "metadata": {},
   "source": [
    "### Ожидаемый результат:\n",
    "```\n",
    "John Wick is adult male\n",
    "```"
   ]
  },
  {
   "cell_type": "code",
   "execution_count": 55,
   "metadata": {},
   "outputs": [
    {
     "name": "stdout",
     "output_type": "stream",
     "text": [
      "{'first', 'released', 'language', 'whitespace', 'revision', 'the', 'notable', 'comprehensive', 'general-purpose', 'a', 'described', '0,', 'clear,', 'completely', 'reference', '2008,', 'programming', 'emphasizes', 'cycles', 'by', 'including', 'with', 'use', 'introduced', 'supports', 'multiple', 'does', 'system', 'major', 'dynamically', 'object-oriented,', 'often', 'backward-compatible,', 'logical', 'capable', 'significant', 'guido', 'that', 'on', 'for', 'late', '\"batteries', 'philosophy', 'in', 'list', 'its', '[27]', 'is', 'an', 'python`s', 'garbage', 'comprehensions', 'to', 'design', 'collection', 'standard', 'write', 'included\"', 'successor', 'due', '3', 'readability', 'van', 'approach', 'and', 'as', 'interpreted,', 'created', 'library', 'garbage-collected', 'features', 'rossum', 'help', 'paradigms,', 'constructs', 'was', 'not', 'code', 'programmers', '1991,', 'large-scale', 'high-level,', 'abc', 'aim', 'collecting', 'it', 'functional', 'conceived', '1980s', '[28]', 'unmodified', '2', 'small', 'like', 'object-oriented', 'much', '2000,', 'projects', 'python', 'typed', 'run', 'procedural,', 'of'}\n"
     ]
    }
   ],
   "source": [
    "def getVocab(inputString):\n",
    "    inputString = inputString.lower().replace(\".\",\" \")\n",
    "    parsed= inputString.split()\n",
    "    vocab = set(parsed)\n",
    "    return vocab,parsed\n",
    "\n",
    "wikipediaText = 'Python is an interpreted, high-level, general-purpose programming language. Created by Guido van Rossum and first released in 1991, Python`s design philosophy emphasizes code readability with its notable use of significant whitespace. Its language constructs and object-oriented approach aim to help programmers write clear, logical code for small and large-scale projects.[27] Python is dynamically typed and garbage-collected. It supports multiple programming paradigms, including procedural, object-oriented, and functional programming. Python is often described as a \"batteries included\" language due to its comprehensive standard library.[28] Python was conceived in the late 1980s as a successor to the ABC language. Python 2.0, released in 2000, introduced features like list comprehensions and a garbage collection system capable of collecting reference cycles. Python 3.0, released in 2008, was a major revision of the language that is not completely backward-compatible, and much Python 2 code does not run unmodified on Python 3.'\n",
    "\n",
    "vocab,_ = getVocab(wikipediaText)\n",
    "print(vocab)"
   ]
  },
  {
   "cell_type": "markdown",
   "metadata": {},
   "source": [
    "### Ожидаемый результат:\n",
    "```\n",
    "{'help', 'is', 'unmodified', 'functional', 'including', 'in', 'conceived', 'guido', 'reference', '1980s', '3', 'much', 'of', 'supports', '2000,', 'logical', 'system', 'with', 'rossum', 'completely', 'general-purpose', 'on', 'typed', 'readability', 'aim', 'often', 'interpreted,', 'list', 'object-oriented,', 'was', 'first', 'revision', 'object-oriented', 'clear,', 'backward-compatible,', 'procedural,', 'design', 'python', 'large-scale', 'described', 'a', 'notable', 'code', 'philosophy', 'capable', '[28]', '2008,', 'garbage-collected', 'van', 'that', 'created', 'comprehensions', 'abc', 'for', 'cycles', 'late', 'its', 'included\"', 'introduced', 'high-level,', 'library', '0,', 'write', 'garbage', 'run', 'as', 'programming', 'use', '\"batteries', 'due', 'significant', 'features', 'dynamically', 'multiple', 'not', 'standard', 'major', 'an', 'python`s', 'and', 'collecting', 'to', '2', 'projects', 'programmers', 'whitespace', 'collection', 'does', 'small', 'by', 'like', '1991,', 'emphasizes', 'it', 'successor', 'constructs', '[27]', 'approach', 'the', 'comprehensive', 'released', 'language', 'paradigms,'}\n",
    "```"
   ]
  },
  {
   "cell_type": "code",
   "execution_count": 56,
   "metadata": {},
   "outputs": [
    {
     "name": "stdout",
     "output_type": "stream",
     "text": [
      "[98, 47, 48, 66, 81, 8, 16, 2, 67, 19, 36, 62, 71, 64, 0, 1, 43, 79, 49, 53, 42, 17, 77, 61, 21, 45, 6, 22, 102, 35, 3, 45, 2, 74, 64, 94, 63, 83, 52, 72, 78, 56, 12, 33, 77, 39, 92, 64, 80, 97, 46, 98, 47, 29, 99, 64, 69, 85, 24, 25, 16, 73, 20, 101, 30, 64, 86, 16, 98, 47, 31, 10, 65, 9, 41, 57, 2, 59, 52, 45, 7, 55, 68, 89, 98, 75, 87, 43, 5, 40, 88, 65, 9, 58, 52, 5, 82, 2, 98, 91, 11, 1, 43, 96, 23, 70, 93, 44, 51, 64, 9, 50, 54, 27, 34, 102, 84, 14, 18, 98, 60, 11, 1, 43, 15, 75, 9, 28, 4, 102, 5, 2, 37, 47, 76, 13, 32, 64, 95, 98, 91, 77, 26, 76, 100, 90, 38, 98, 60]\n"
     ]
    }
   ],
   "source": [
    "def generateVector(inputString):\n",
    "    vocab,parsed= getVocab(inputString)\n",
    "    word2idx = {}\n",
    "    for idx, word in enumerate(vocab):\n",
    "        word2idx[word] = idx\n",
    "    \n",
    "        vector = []\n",
    "    for word in parsed:\n",
    "        vector.append(word2idx[word])\n",
    "    return vector\n",
    "\n",
    "print(generateVector(wikipediaText))"
   ]
  },
  {
   "cell_type": "markdown",
   "metadata": {},
   "source": [
    "### Ожидаемый результат:\n",
    "```\n",
    "[37, 1, 77, 26, 59, 20, 66, 101, 50, 89, 7, 48, 18, 79, 30, 100, 5, 91, 78, 36, 43, 92, 42, 23, 17, 56, 41, 67, 12, 70, 85, 56, 101, 95, 79, 32, 97, 24, 81, 0, 84, 62, 33, 15, 42, 53, 88, 79, 38, 83, 96, 37, 1, 72, 22, 79, 47, 93, 13, 73, 66, 102, 4, 35, 28, 79, 3, 66, 37, 1, 25, 39, 65, 40, 68, 57, 101, 69, 81, 56, 99, 75, 60, 45, 37, 29, 6, 5, 98, 55, 9, 65, 40, 94, 81, 98, 52, 101, 37, 82, 61, 100, 5, 14, 58, 71, 90, 27, 51, 79, 40, 63, 86, 16, 44, 12, 80, 8, 54, 37, 10, 61, 100, 5, 46, 29, 40, 76, 31, 12, 98, 101, 49, 1, 74, 19, 34, 79, 11, 37, 82, 42, 87, 74, 64, 2, 21, 37, 10]\n",
    "```"
   ]
  },
  {
   "cell_type": "code",
   "execution_count": 57,
   "metadata": {},
   "outputs": [
    {
     "name": "stdout",
     "output_type": "stream",
     "text": [
      "My name is Lilly, and I am 4 years old. My gender is female\n"
     ]
    }
   ],
   "source": [
    "class Cat(Animal):\n",
    "    def __init__(self, name=None, age=None, gender=None):\n",
    "        super().__init__(name=name,num_legs=None,voice=None)\n",
    "        self.age = age\n",
    "        self.gender=gender\n",
    "    \n",
    "    def __str__(self):\n",
    "        return f\"My name is {self.name}, and I am {self.age} years old. My gender is {self.gender}\"\n",
    "\n",
    "cat1 = Cat(name=\"Lilly\",age=4,gender=\"female\")\n",
    "print(cat1)"
   ]
  },
  {
   "cell_type": "markdown",
   "metadata": {},
   "source": [
    "### Ожидаемый результат:\n",
    "```\n",
    "My name is Lilly, and I am 4 years old. My gender is female\n",
    "```"
   ]
  },
  {
   "cell_type": "code",
   "execution_count": 58,
   "metadata": {},
   "outputs": [
    {
     "name": "stdout",
     "output_type": "stream",
     "text": [
      "My name is Jackie, I am 1 years old. I have 4 legs\n"
     ]
    }
   ],
   "source": [
    "class Puppy(Dog):\n",
    "    def __init__(self, name=None, age=None, gender=None, num_legs=None):\n",
    "        super().__init__(name=name,num_legs=num_legs)\n",
    "        self.age=age\n",
    "        self.gender=gender\n",
    "    \n",
    "    def __str__(self):\n",
    "        return f\"My name is {self.name}, I am {self.age} years old. I have {self.num_legs} legs\"\n",
    "\n",
    "pup1 = Puppy(name=\"Jackie\", age=1, gender=\"male\", num_legs=4)\n",
    "print(pup1)"
   ]
  },
  {
   "cell_type": "markdown",
   "metadata": {},
   "source": [
    "### Ожидаемый результат:\n",
    "```\n",
    "My name is Jackie, I am 1 years old. I have 4 legs\n",
    "```"
   ]
  },
  {
   "cell_type": "markdown",
   "metadata": {},
   "source": [
    "# Прекрасная Работа!!!"
   ]
  }
 ],
 "metadata": {
  "kernelspec": {
   "display_name": "Python 3",
   "language": "python",
   "name": "python3"
  },
  "language_info": {
   "codemirror_mode": {
    "name": "ipython",
    "version": 3
   },
   "file_extension": ".py",
   "mimetype": "text/x-python",
   "name": "python",
   "nbconvert_exporter": "python",
   "pygments_lexer": "ipython3",
   "version": "3.8.5"
  }
 },
 "nbformat": 4,
 "nbformat_minor": 2
}
