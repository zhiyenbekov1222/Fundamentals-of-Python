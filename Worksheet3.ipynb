{
 "cells": [
  {
   "cell_type": "markdown",
   "metadata": {},
   "source": [
    "1) Используйте for, .split() и if для создания оператора, который будет печатать слова, начинающиеся с 't':"
   ]
  },
  {
   "cell_type": "code",
   "execution_count": null,
   "metadata": {},
   "outputs": [],
   "source": [
    "st = 'Print only the words that start with t in this sentence'\n",
    "st1=st.split()\n",
    "for elem in st1:\n",
    "    if elem[0]==\"t\":\n",
    "        print(elem,end =\", \")"
   ]
  },
  {
   "cell_type": "markdown",
   "metadata": {},
   "source": [
    "2) Используйте range() для печати всех четных чисел от 0 до 10.(не использовать операторы for, while,if)"
   ]
  },
  {
   "cell_type": "code",
   "execution_count": 102,
   "metadata": {},
   "outputs": [
    {
     "name": "stdout",
     "output_type": "stream",
     "text": [
      "[2, 4, 6, 8]\n"
     ]
    }
   ],
   "source": [
    "even=list(range(2,10,2))\n",
    "print(even)"
   ]
  },
  {
   "cell_type": "markdown",
   "metadata": {},
   "source": [
    "3) Cоздайте **список** всех чисел от 1 до 50, которые делятся на 3.(именно список)"
   ]
  },
  {
   "cell_type": "code",
   "execution_count": 103,
   "metadata": {},
   "outputs": [
    {
     "name": "stdout",
     "output_type": "stream",
     "text": [
      "[3, 6, 9, 12, 15, 18, 21, 24, 27, 30, 33, 36, 39, 42, 45, 48]\n"
     ]
    }
   ],
   "source": [
    "list_of_num1=[]\n",
    "for i in range(1,50):\n",
    "    if i%3==0:\n",
    "        list_of_num1.append(i)\n",
    "print(list_of_num1)"
   ]
  },
  {
   "cell_type": "markdown",
   "metadata": {},
   "source": [
    "4) Просмотрите строку ниже и, если длина слова четная, выведите «четное!»"
   ]
  },
  {
   "cell_type": "code",
   "execution_count": 4,
   "metadata": {},
   "outputs": [
    {
     "name": "stdout",
     "output_type": "stream",
     "text": [
      "word :  Четное\n",
      "in :  Четное\n",
      "this :  Четное\n",
      "sentence :  Четное\n",
      "that :  Четное\n",
      "an :  Четное\n",
      "even :  Четное\n",
      "number :  Четное\n",
      "of :  Четное\n"
     ]
    }
   ],
   "source": [
    "st1 = 'Print every word in this sentence that has an even number of letters'\n",
    "st1_word=st1.split()\n",
    "for even in st1_word:\n",
    "    if len(even)%2==0:\n",
    "        print(even,\":  Четное\")"
   ]
  },
  {
   "cell_type": "markdown",
   "metadata": {},
   "source": [
    "5) Создайте список первых букв каждого слова в строке ниже:"
   ]
  },
  {
   "cell_type": "code",
   "execution_count": 17,
   "metadata": {},
   "outputs": [
    {
     "name": "stdout",
     "output_type": "stream",
     "text": [
      "['C', 'a', 'l', 'o', 't', 'f', 'l', 'o', 'e', 'w', 'i', 't', 's']\n"
     ]
    }
   ],
   "source": [
    "st2_words=[]\n",
    "st2 = 'Create a list of the first letters of every word in this string'\n",
    "st2_each=st2.split()\n",
    "for capitals in st2_each:\n",
    "    st2_words.append(capitals[0])\n",
    "print(st2_words)"
   ]
  },
  {
   "cell_type": "markdown",
   "metadata": {},
   "source": [
    "6) Найдите сумму чисел в списке ниже: (с двумя способами)"
   ]
  },
  {
   "cell_type": "code",
   "execution_count": 115,
   "metadata": {},
   "outputs": [
    {
     "name": "stdout",
     "output_type": "stream",
     "text": [
      "The amount of numbers are:  55\n"
     ]
    }
   ],
   "source": [
    "sum=0\n",
    "l = [1,2,3,4,5,6,7,8,9,10]\n",
    "for num in l:\n",
    "    sum=sum+num\n",
    "print(\"The amount of numbers are: \",sum)"
   ]
  },
  {
   "cell_type": "code",
   "execution_count": 116,
   "metadata": {},
   "outputs": [
    {
     "name": "stdout",
     "output_type": "stream",
     "text": [
      "The amount of numbers are:  55\n"
     ]
    }
   ],
   "source": [
    "l = [1,2,3,4,5,6,7,8,9,10]\n",
    "def numsum(l):\n",
    "    if len(l)==1:\n",
    "        return l[0]\n",
    "    else:\n",
    "        return l[0]+numsum(l[1:])\n",
    "print(\"The amount of numbers are: \",numsum(l))"
   ]
  },
  {
   "cell_type": "markdown",
   "metadata": {},
   "source": [
    "7) Напишите программу на Python, чтобы умножить все элементы в списке."
   ]
  },
  {
   "cell_type": "code",
   "execution_count": 117,
   "metadata": {},
   "outputs": [
    {
     "name": "stdout",
     "output_type": "stream",
     "text": [
      "1890\n"
     ]
    }
   ],
   "source": [
    "mult=1\n",
    "l = [2,5,7,3,9]\n",
    "for num2 in l:\n",
    "    mult=mult*num2\n",
    "print(mult)"
   ]
  },
  {
   "cell_type": "markdown",
   "metadata": {},
   "source": [
    "8) Напишите программу на Python, чтобы получить наибольшее число из списка."
   ]
  },
  {
   "cell_type": "code",
   "execution_count": 118,
   "metadata": {},
   "outputs": [
    {
     "data": {
      "text/plain": [
       "101"
      ]
     },
     "execution_count": 118,
     "metadata": {},
     "output_type": "execute_result"
    }
   ],
   "source": [
    "l = [2,5,7,3,9,11,50,101]\n",
    "l.sort(reverse=True)\n",
    "l[0]"
   ]
  },
  {
   "cell_type": "code",
   "execution_count": 5,
   "metadata": {},
   "outputs": [
    {
     "name": "stdout",
     "output_type": "stream",
     "text": [
      "101\n"
     ]
    }
   ],
   "source": [
    "l = [2,5,7,3,9,11,50,101]\n",
    "for i in range(len(l)-1):\n",
    "    for j in range(i+1,len(l)):\n",
    "        if l[i]<l[j]:\n",
    "            l[i],l[j]=l[j],l[i]\n",
    "print(l[0])"
   ]
  },
  {
   "cell_type": "markdown",
   "metadata": {},
   "source": [
    "9) Напишите программу на Python, чтобы найти общие элементы из двух списков."
   ]
  },
  {
   "cell_type": "code",
   "execution_count": 120,
   "metadata": {},
   "outputs": [
    {
     "data": {
      "text/plain": [
       "{'Azamat', 'Darkhan'}"
      ]
     },
     "execution_count": 120,
     "metadata": {},
     "output_type": "execute_result"
    }
   ],
   "source": [
    "team_1 = [\"Darkhan\", \"Abilay\", \"Azamat\", \"Zhasulan\"]\n",
    "team_2 = [\"Azamat\", \"Darkhan\", \"Aset\", \"Bolat\",\"Saken\"]\n",
    "set(team_1).intersection(team_2)"
   ]
  },
  {
   "cell_type": "markdown",
   "metadata": {},
   "source": [
    "10) Напишите программу на Python для расширения списка без .append()."
   ]
  },
  {
   "cell_type": "code",
   "execution_count": 121,
   "metadata": {},
   "outputs": [
    {
     "name": "stdout",
     "output_type": "stream",
     "text": [
      "[10, 20, 30, 1, 2, 3, 4, 5, 6]\n"
     ]
    }
   ],
   "source": [
    "l_1=[10,20,30]\n",
    "l_2=[1,2,3,4,5,6]\n",
    "l_1.extend(l_2)\n",
    "print(l_1)\n",
    "# Вывод должен быть: [10,20,30,1,2,3,4,5,6]\n",
    "# Код  "
   ]
  },
  {
   "cell_type": "markdown",
   "metadata": {},
   "source": [
    "11) Напишите программу на Python для суммирования всех элементов в словаре."
   ]
  },
  {
   "cell_type": "code",
   "execution_count": 135,
   "metadata": {},
   "outputs": [
    {
     "name": "stdout",
     "output_type": "stream",
     "text": [
      "293\n"
     ]
    }
   ],
   "source": [
    "sum1=0\n",
    "my_dict = {'data1':100,'data2':-54,'data3':247}\n",
    "for item in my_dict:\n",
    "    sum1=my_dict[item]+sum1\n",
    "print(sum1)"
   ]
  },
  {
   "cell_type": "markdown",
   "metadata": {},
   "source": [
    "12) Напишите программу на Python, чтобы получить максимальное и минимальное значение в словаре."
   ]
  },
  {
   "cell_type": "code",
   "execution_count": 156,
   "metadata": {},
   "outputs": [
    {
     "name": "stdout",
     "output_type": "stream",
     "text": [
      "Максимальное значение:  247\n",
      "Минимальное значение:  -54\n"
     ]
    }
   ],
   "source": [
    "list_of_dict=[]\n",
    "my_dict = {'data1':100,'data2':-54,'data3':247}\n",
    "for item in my_dict:\n",
    "    list_of_item=my_dict[item]\n",
    "    list_of_dict.append(list_of_item)\n",
    "list_of_dict.sort(reverse=True)\n",
    "print(\"Максимальное значение: \",list_of_dict[0])\n",
    "list_of_dict.sort()\n",
    "print(\"Минимальное значение: \",list_of_dict[0])"
   ]
  },
  {
   "cell_type": "markdown",
   "metadata": {},
   "source": [
    "13) Напишите программу на Python, чтобы найти те числа, которые делятся на 7 и кратны 5, между 1500 и 2700 (оба включены)."
   ]
  },
  {
   "cell_type": "code",
   "execution_count": 160,
   "metadata": {},
   "outputs": [
    {
     "name": "stdout",
     "output_type": "stream",
     "text": [
      "[1505, 1540, 1575, 1610, 1645, 1680, 1715, 1750, 1785, 1820, 1855, 1890, 1925, 1960, 1995, 2030, 2065, 2100, 2135, 2170, 2205, 2240, 2275, 2310, 2345, 2380, 2415, 2450, 2485, 2520, 2555, 2590, 2625, 2660, 2695]\n"
     ]
    }
   ],
   "source": [
    "list_of_numbers=[]\n",
    "for numbers in range(1500,2701):\n",
    "    if numbers%7==0 and numbers%5==0:\n",
    "        list_of_numbers.append(numbers)\n",
    "print(list_of_numbers)       "
   ]
  },
  {
   "cell_type": "markdown",
   "metadata": {},
   "source": [
    "14) Напишите программу на Python для подсчета количества четных и нечетных чисел из серии чисел."
   ]
  },
  {
   "cell_type": "code",
   "execution_count": 17,
   "metadata": {},
   "outputs": [
    {
     "name": "stdout",
     "output_type": "stream",
     "text": [
      "The amount of evens:  6\n",
      "The amount of odds:  5\n"
     ]
    }
   ],
   "source": [
    "sum_of_even=0\n",
    "sum_of_odd=0\n",
    "numbers = (10,11,12,13,14,15,16,17,18,19,20)\n",
    "for even in numbers:\n",
    "    if even%2==0:\n",
    "        sum_of_even +=1\n",
    "print(\"The amount of evens: \",sum_of_even)\n",
    "for odd in numbers:\n",
    "    if odd%2==1:\n",
    "        sum_of_odd +=1\n",
    "print(\"The amount of odds: \",sum_of_odd)"
   ]
  },
  {
   "cell_type": "markdown",
   "metadata": {},
   "source": [
    "15) Напишите программу на Python, чтобы получить ряд Фибоначчи от 0 до 50."
   ]
  },
  {
   "cell_type": "code",
   "execution_count": 10,
   "metadata": {},
   "outputs": [
    {
     "name": "stdout",
     "output_type": "stream",
     "text": [
      "1 2 3 5 8 13 21 34 55 "
     ]
    }
   ],
   "source": [
    "fibonacci_num=[]\n",
    "fib1=fib2=1\n",
    "fib1=0\n",
    "while fib2<50:\n",
    "    fib1,fib2=fib2,fib1+fib2\n",
    "    print(fib2,end =\" \")"
   ]
  },
  {
   "cell_type": "markdown",
   "metadata": {},
   "source": [
    "16) Напишите программу на Python для расчета возраста собаки по собачьим годам.(Для заданного числа 12, вывод должен быть 61 = 2x10.5+10x4)\n",
    "\n",
    "**Примечание: в течение первых двух лет год собаки равен 10,5 человеческим годам. После этого каждый год собаки равен 4 человеческим годам.**"
   ]
  },
  {
   "cell_type": "code",
   "execution_count": 57,
   "metadata": {},
   "outputs": [
    {
     "name": "stdout",
     "output_type": "stream",
     "text": [
      "Write down the of human: 12\n",
      "61.0\n"
     ]
    }
   ],
   "source": [
    "year_of_human=float(input(\"Write down the of human: \"))\n",
    "if year_of_human<=2:\n",
    "    year_of_thehound=10.5/2*year_of_human\n",
    "    print(year_of_thehound)\n",
    "elif year_of_human>=2:\n",
    "    year_of_thehound=10.5*2+4*(year_of_human-2)\n",
    "    print(year_of_thehound)"
   ]
  },
  {
   "cell_type": "markdown",
   "metadata": {},
   "source": [
    "17) Напишите программу на Python для преобразования названия месяца в количество дней."
   ]
  },
  {
   "cell_type": "code",
   "execution_count": null,
   "metadata": {},
   "outputs": [],
   "source": [
    "#I do not know how much correctly I understood the meaning of the task\n",
    "q_day=str(input(\"Write down the name of month: \"))\n",
    "if q_day==\"January\":\n",
    "    q_day=31\n",
    "    print(q_day)\n",
    "elif q_day==\"February\":\n",
    "    q_day=29\n",
    "    print(q_day)\n",
    "elif q_day==\"March\":\n",
    "    q_day=31\n",
    "    print(q_day)\n",
    "elif q_day==\"April\":\n",
    "    q_day=30\n",
    "    print(q_day)\n",
    "elif q_day==\"May\":\n",
    "    q_day=30  \n",
    "    print(q_day)\n",
    "elif q_day==\"June\":\n",
    "    q_day=30 \n",
    "    print(q_day)\n",
    "elif q_day==\"July\":\n",
    "    q_day=31\n",
    "    print(q_day)\n",
    "elif q_day==\"August\":\n",
    "    q_day=31 \n",
    "    print(q_day)\n",
    "elif q_day==\"September\":\n",
    "    q_day=30\n",
    "    print(q_day)\n",
    "elif q_day==\"October\":\n",
    "    q_day=31\n",
    "    print(q_day)\n",
    "elif q_day==\"November\":\n",
    "    q_day=30 \n",
    "    print(q_day)\n",
    "elif q_day==\"December\":\n",
    "    q_day=31 \n",
    "    print(q_day)\n",
    "else:\n",
    "    print(\"No such month\")"
   ]
  },
  {
   "cell_type": "markdown",
   "metadata": {},
   "source": [
    "18) Проверьте является ли слово палиндромом или нет. \n",
    "\n",
    "**Примечание: Строка считается палиндромом, если она читается одинаково в обоих направлениях.**"
   ]
  },
  {
   "cell_type": "code",
   "execution_count": 71,
   "metadata": {},
   "outputs": [
    {
     "data": {
      "text/plain": [
       "True"
      ]
     },
     "execution_count": 71,
     "metadata": {},
     "output_type": "execute_result"
    }
   ],
   "source": [
    "word = \"aibohphobia\"\n",
    "polyword=word[::-1]\n",
    "word==polyword"
   ]
  },
  {
   "cell_type": "markdown",
   "metadata": {},
   "source": [
    "19) Рядом стоят несколько студентов, у каждого из которых написано какое-то число на спине. Учащиеся собираются разделиться на две команды, отсчитав их по две: те, кто стоит на четных позициях (на основе 0), перейдут в команду А, а те, кто стоит на нечетной позиции, присоединятся к команде В.\n",
    "\n",
    "Ваша задача - вычислить разницу между суммами чисел, написанными на спинах студентов, которые присоединятся к команде А, и теми, которые написаны на спинах студентов, которые присоединятся к команде Б."
   ]
  },
  {
   "cell_type": "code",
   "execution_count": 20,
   "metadata": {},
   "outputs": [
    {
     "name": "stdout",
     "output_type": "stream",
     "text": [
      "A group:  97\n",
      "B group:  84\n",
      "The difference between A and B is:  13\n"
     ]
    }
   ],
   "source": [
    "sum_of_even=0\n",
    "sum_of_odd=0\n",
    "students = [1, 11, 13, 6, 14, 10, 23, 25, 16, 23, 30,9]\n",
    "n=2\n",
    "x=[students[i:i + n] for i in range(0,len(students),n)]\n",
    "for a in x:\n",
    "    sum_of_even=sum_of_even+a[0]\n",
    "    sum_of_odd=sum_of_odd+a[1]\n",
    "print(\"A group: \",sum_of_even)\n",
    "print(\"B group: \",sum_of_odd)\n",
    "diff=abs(sum_of_even-sum_of_odd)\n",
    "print(\"The difference between A and B is: \",diff)"
   ]
  },
  {
   "cell_type": "markdown",
   "metadata": {},
   "source": [
    "20) Напишите программу на Python, чтобы найти числа от 100 до 400 (оба включены), где каждая цифра числа является четным числом. Полученные числа должны быть напечатаны в последовательности через запятую."
   ]
  },
  {
   "cell_type": "code",
   "execution_count": 9,
   "metadata": {},
   "outputs": [
    {
     "name": "stdout",
     "output_type": "stream",
     "text": [
      "200,202,204,206,208,220,222,224,226,228,240,242,244,246,248,260,262,264,266,268,280,282,284,286,288,400,"
     ]
    }
   ],
   "source": [
    "list_of_num20=[]\n",
    "for num20 in range(100,401):\n",
    "    digits = [int(x) for x in str(num20)]\n",
    "    if digits[2]%2==0 and digits[1]%2==0 and digits[0]%2==0:\n",
    "        def convert(digits):\n",
    "            s = [str(i) for i in digits]\n",
    "            res=int(\"\".join(s))\n",
    "            return(res)\n",
    "        print(convert(digits),end =\",\")"
   ]
  },
  {
   "cell_type": "markdown",
   "metadata": {},
   "source": [
    "# Прекрасная работа!"
   ]
  }
 ],
 "metadata": {
  "kernelspec": {
   "display_name": "Python 3",
   "language": "python",
   "name": "python3"
  },
  "language_info": {
   "codemirror_mode": {
    "name": "ipython",
    "version": 3
   },
   "file_extension": ".py",
   "mimetype": "text/x-python",
   "name": "python",
   "nbconvert_exporter": "python",
   "pygments_lexer": "ipython3",
   "version": "3.6.12"
  }
 },
 "nbformat": 4,
 "nbformat_minor": 2
}
