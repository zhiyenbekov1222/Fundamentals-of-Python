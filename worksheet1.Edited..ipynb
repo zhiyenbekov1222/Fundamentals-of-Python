{
 "cells": [
  {
   "cell_type": "markdown",
   "metadata": {},
   "source": [
    "**1) Для заданного целого числа n выполнить следующие условные действия:**\n",
    "\n",
    "Если n нечетно, выведите Astana\n",
    "\n",
    "Если n чётно и находится в диапазоне от 2 до 5, выведите Алматы\n",
    "\n",
    "Если n чётно и находится в диапазоне от 6 до 20 включительно, выведите Astana\n",
    "\n",
    "Если n чётно и больше 20, выведите Алматы"
   ]
  },
  {
   "cell_type": "code",
   "execution_count": 4,
   "metadata": {},
   "outputs": [
    {
     "name": "stdout",
     "output_type": "stream",
     "text": [
      "Назовите целое число: 15\n",
      "Astana\n"
     ]
    }
   ],
   "source": [
    "n=int(input(\"Назовите целое число: \"))\n",
    "if n%2==1 or n%2==0 and 6<=n<=20:\n",
    "    print(\"Astana\")\n",
    "elif n%2==0 and 2<n<5 or n>20:\n",
    "        print(\"Almaty\")"
   ]
  },
  {
   "cell_type": "markdown",
   "metadata": {},
   "source": [
    "**2) Дано целое число n. Для всех неотрицательных целых чисел i <n, выведите квадрат числа i.**"
   ]
  },
  {
   "cell_type": "code",
   "execution_count": 5,
   "metadata": {},
   "outputs": [
    {
     "name": "stdout",
     "output_type": "stream",
     "text": [
      "Назовите число: 23\n",
      "0 1 4 9 16 25 36 49 64 81 100 121 144 169 196 225 256 289 324 361 400 441 484 "
     ]
    }
   ],
   "source": [
    "n=int(input(\"Назовите число: \"))\n",
    "for i in range(n):\n",
    "    i=i**2\n",
    "    print(i,end=\" \")"
   ]
  },
  {
   "cell_type": "markdown",
   "metadata": {},
   "source": [
    "**3) Дано целое число n.**\n",
    "\n",
    "Не используя строковые методы, попробуйте напечатать следующее:\n",
    "\n",
    "<code>123.....n</code>\n",
    "\n",
    "Обратите внимание, что <code> ... </code> представляет значения между ними."
   ]
  },
  {
   "cell_type": "code",
   "execution_count": 6,
   "metadata": {},
   "outputs": [
    {
     "name": "stdout",
     "output_type": "stream",
     "text": [
      "Назовите число: 12\n",
      "1234567891011"
     ]
    }
   ],
   "source": [
    "n=int(input(\"Назовите число: \"))\n",
    "for i in range(1,n):\n",
    "    print(i,end= \"\")"
   ]
  },
  {
   "cell_type": "markdown",
   "metadata": {},
   "source": [
    "**4) Какова сумма первых 10 натуральных чисел?**"
   ]
  },
  {
   "cell_type": "code",
   "execution_count": 7,
   "metadata": {},
   "outputs": [
    {
     "name": "stdout",
     "output_type": "stream",
     "text": [
      "Сумма натуральных чисел = 45\n"
     ]
    }
   ],
   "source": [
    "thesum = 0\n",
    "for i in range(10):\n",
    "    thesum=thesum+i\n",
    "print(\"Сумма натуральных чисел =\",thesum)"
   ]
  },
  {
   "cell_type": "markdown",
   "metadata": {},
   "source": [
    "**5) Напишите программу на Python, которая принимает радиус круга от пользователя и вычисляет площадь.**\n",
    "\n",
    "**Tip**: <code>from math import pi</code>"
   ]
  },
  {
   "cell_type": "code",
   "execution_count": 8,
   "metadata": {},
   "outputs": [
    {
     "name": "stdout",
     "output_type": "stream",
     "text": [
      "Напишите радиус круга = 23\n",
      "Радиус круга = 1661.0600000000002\n"
     ]
    }
   ],
   "source": [
    "R = int(input(\"Напишите радиус круга = \"))\n",
    "S=3.14*R**2\n",
    "print(\"Радиус круга = {}\" .format(S))"
   ]
  },
  {
   "cell_type": "markdown",
   "metadata": {},
   "source": [
    "**6)  Напишите программу на Python, чтобы получить объем сферы с радиусом 7.**"
   ]
  },
  {
   "cell_type": "code",
   "execution_count": 9,
   "metadata": {},
   "outputs": [
    {
     "name": "stdout",
     "output_type": "stream",
     "text": [
      "Объем сферы = 50939.17333333333 М3\n"
     ]
    }
   ],
   "source": [
    "V=4/3*3.14*R**3\n",
    "R=7\n",
    "print(\"Объем сферы =\",V,\"М3\")"
   ]
  },
  {
   "cell_type": "markdown",
   "metadata": {},
   "source": [
    "**7) Напишите программу на Python, которая принимает целое число n и вычисляет значение n + nn + nnn. (nn-двузначное число)**"
   ]
  },
  {
   "cell_type": "code",
   "execution_count": 11,
   "metadata": {},
   "outputs": [
    {
     "name": "stdout",
     "output_type": "stream",
     "text": [
      "Write the number13\n",
      "132639\n"
     ]
    }
   ],
   "source": [
    "n=int(input(\"Write the number\"))\n",
    "n2=str(n)+str(n)\n",
    "n3=str(n)+str(n)+str(n)\n",
    "sum=n+int(n2)+int(n3)\n",
    "print(sum)"
   ]
  },
  {
   "cell_type": "markdown",
   "metadata": {},
   "source": [
    "**8) Напишите программу на Python, которая примет основание и высоту треугольника и вычислит площадь.**"
   ]
  },
  {
   "cell_type": "code",
   "execution_count": null,
   "metadata": {},
   "outputs": [],
   "source": [
    "a=int(input(\"Напишите основание треугольника :\"))\n",
    "h=int(input(\"Высота?: \"))\n",
    "S=1/2*a*h\n",
    "print(S)\n"
   ]
  },
  {
   "cell_type": "markdown",
   "metadata": {},
   "source": [
    "**9) Напишите программу на Python для преобразования высоты (в футах и дюймах) в сантиметры.**"
   ]
  },
  {
   "cell_type": "code",
   "execution_count": null,
   "metadata": {},
   "outputs": [],
   "source": [
    "inch=int(input(\"The Lengh of inch\"))\n",
    "ft=int(input(\"The Lengh of ft\"))\n",
    "cm1=int(inch)*2,54\n",
    "cm2=int(ft)*30,48\n",
    "print(\"Inch to cm=\",cm1,\",\"\"ft to cm=\",cm2)"
   ]
  },
  {
   "cell_type": "markdown",
   "metadata": {},
   "source": [
    "**10) Напишите программу на Python для вычисления расстояния между точками (x1, y1) и (x2, y2).**"
   ]
  },
  {
   "cell_type": "code",
   "execution_count": null,
   "metadata": {},
   "outputs": [],
   "source": [
    "x1=int(input(\"Назовите число х1: \"))\n",
    "x2=int(input(\"Назовите число х2: \"))\n",
    "y1=int(input(\"Назовите число y1: \"))\n",
    "y2=int(input(\"Назовите число y2: \"))\n",
    "AA=((int(x2)-int(x1))**2+(int(y2)-int(y1))**2)**0.5\n",
    "print(\"Расстояния между точками (x1, y1) и (x2, y2): \",AA)"
   ]
  },
  {
   "cell_type": "markdown",
   "metadata": {},
   "source": [
    "**11) Напишите программу на Python для вычисления гипотенузы прямоугольного треугольника.**"
   ]
  },
  {
   "cell_type": "code",
   "execution_count": null,
   "metadata": {},
   "outputs": [],
   "source": [
    "a=int(input(\"Назовите число катетa a : \"))\n",
    "b=int(input(\"Назовите число катета b : \"))\n",
    "c=float((int(a)**2+int(b)**2)**0.5)\n",
    "print(\"Гипотенуза равен = \",c)"
   ]
  },
  {
   "cell_type": "markdown",
   "metadata": {},
   "source": [
    "**12) Сколько натуральных чисел не больше 100 делиться на 7 и на 2?**"
   ]
  },
  {
   "cell_type": "code",
   "execution_count": null,
   "metadata": {},
   "outputs": [],
   "source": [
    "sum=0\n",
    "for i in range(1,100):\n",
    "    if i%7==0 and i%2==0:\n",
    "        sum +=1\n",
    "print(sum)"
   ]
  },
  {
   "cell_type": "markdown",
   "metadata": {},
   "source": [
    "# Прекрасная работа!"
   ]
  }
 ],
 "metadata": {
  "kernelspec": {
   "display_name": "Python 3",
   "language": "python",
   "name": "python3"
  },
  "language_info": {
   "codemirror_mode": {
    "name": "ipython",
    "version": 3
   },
   "file_extension": ".py",
   "mimetype": "text/x-python",
   "name": "python",
   "nbconvert_exporter": "python",
   "pygments_lexer": "ipython3",
   "version": "3.6.12"
  }
 },
 "nbformat": 4,
 "nbformat_minor": 2
}
